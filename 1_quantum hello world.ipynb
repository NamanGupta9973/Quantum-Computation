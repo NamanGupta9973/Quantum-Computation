{
 "cells": [
  {
   "cell_type": "code",
   "execution_count": 1,
   "id": "f909d7c8-2449-4e38-a69a-0290de2eab0c",
   "metadata": {},
   "outputs": [],
   "source": [
    "from qiskit import *  # import everything from qiskit"
   ]
  },
  {
   "cell_type": "code",
   "execution_count": 2,
   "id": "41c026fb-c5b9-4abc-8107-90f9d0b227a0",
   "metadata": {},
   "outputs": [],
   "source": [
    "qr = QuantumRegister(2)    # quantum register containing 2 qubits\n",
    "cr = ClassicalRegister(2)  # classical register containing 2 bits"
   ]
  },
  {
   "cell_type": "code",
   "execution_count": 3,
   "id": "5e5cdd74-ae8c-408d-9f14-d56d76645862",
   "metadata": {},
   "outputs": [],
   "source": [
    "circuit = QuantumCircuit(qr, cr) # creates a quantum circuit"
   ]
  },
  {
   "cell_type": "code",
   "execution_count": 4,
   "id": "935f85e9-4df4-4b0f-97ca-1dd26ea6e307",
   "metadata": {},
   "outputs": [
    {
     "data": {
      "image/png": "[encoded data removed]",
      "text/plain": [
       "<Figure size 129.533x204.68 with 1 Axes>"
      ]
     },
     "execution_count": 4,
     "metadata": {},
     "output_type": "execute_result"
    }
   ],
   "source": [
    "# to see the cretaed circuit at any stage do the following\n",
    "%matplotlib inline\n",
    "circuit.draw()"
   ]
  },
  {
   "cell_type": "code",
   "execution_count": 5,
   "id": "d1f5944f-74d9-4f31-8b14-37d1c4f018ff",
   "metadata": {},
   "outputs": [
    {
     "data": {
      "text/plain": [
       "<qiskit.circuit.instructionset.InstructionSet at 0x7ff229bc34c0>"
      ]
     },
     "execution_count": 5,
     "metadata": {},
     "output_type": "execute_result"
    }
   ],
   "source": [
    "circuit.h(qr[0])  # applying the hadamard gate on the first qubit"
   ]
  },
  {
   "cell_type": "code",
   "execution_count": 8,
   "id": "00d5308b-8f25-461a-a738-7e1a35eeb6b0",
   "metadata": {},
   "outputs": [
    {
     "data": {
      "image/png": "[encoded data removed]",
      "text/plain": [
       "<Figure size 159.633x204.68 with 1 Axes>"
      ]
     },
     "execution_count": 8,
     "metadata": {},
     "output_type": "execute_result"
    }
   ],
   "source": [
    "circuit.draw()"
   ]
  },
  {
   "cell_type": "code",
   "execution_count": 9,
   "id": "0df0ff67-10fa-42fd-937a-7e366018fb7e",
   "metadata": {},
   "outputs": [
    {
     "data": {
      "text/plain": [
       "<qiskit.circuit.instructionset.InstructionSet at 0x7ff2295bf900>"
      ]
     },
     "execution_count": 9,
     "metadata": {},
     "output_type": "execute_result"
    }
   ],
   "source": [
    "circuit.cx(qr[0], qr[1]) # applying controlled X, 1st qubit is control qubit, 2nd qubit is target"
   ]
  },
  {
   "cell_type": "code",
   "execution_count": 10,
   "id": "cbb3f142-1635-4a2b-b6ff-c0de15f93048",
   "metadata": {},
   "outputs": [
    {
     "data": {
      "image/png": "[encoded data removed]",
      "text/plain": [
       "<Figure size 219.833x204.68 with 1 Axes>"
      ]
     },
     "execution_count": 10,
     "metadata": {},
     "output_type": "execute_result"
    }
   ],
   "source": [
    "circuit.draw()"
   ]
  },
  {
   "cell_type": "code",
   "execution_count": 11,
   "id": "718da159-d60c-4c60-a06b-56aee08558f6",
   "metadata": {},
   "outputs": [
    {
     "data": {
      "text/plain": [
       "<qiskit.circuit.instructionset.InstructionSet at 0x7ff2295c28c0>"
      ]
     },
     "execution_count": 11,
     "metadata": {},
     "output_type": "execute_result"
    }
   ],
   "source": [
    "circuit.measure(qr, cr) # measure qubits and store outcome in classical bits"
   ]
  },
  {
   "cell_type": "code",
   "execution_count": 12,
   "id": "daed80a3-c491-4ffb-a0dc-c082876c33db",
   "metadata": {},
   "outputs": [
    {
     "data": {
      "image/png": "[encoded data removed]",
      "text/plain": [
       "<Figure size 340.233x204.68 with 1 Axes>"
      ]
     },
     "execution_count": 12,
     "metadata": {},
     "output_type": "execute_result"
    }
   ],
   "source": [
    "circuit.draw()"
   ]
  },
  {
   "cell_type": "code",
   "execution_count": 14,
   "id": "47e79f80-1314-4ec1-aeb7-cb2ddb3e7567",
   "metadata": {},
   "outputs": [
    {
     "data": {
      "text/plain": [
       "<qiskit.providers.aer.jobs.aerjob.AerJob at 0x7ff1cf9e5bb0>"
      ]
     },
     "execution_count": 14,
     "metadata": {},
     "output_type": "execute_result"
    }
   ],
   "source": [
    "simulator = Aer.get_backend('qasm_simulator')  # using simulator to run the circuit on PC\n",
    "execute(circuit, backend = simulator)"
   ]
  },
  {
   "cell_type": "code",
   "execution_count": 15,
   "id": "212a7247-3cf2-44df-88ae-6ce396cd99b4",
   "metadata": {},
   "outputs": [],
   "source": [
    "result = execute(circuit, backend = simulator).result()  # assign the result of the circuit to a variable 'result'"
   ]
  },
  {
   "cell_type": "code",
   "execution_count": 16,
   "id": "836da71b-e0e5-48d6-9aee-b8020b9372f3",
   "metadata": {},
   "outputs": [],
   "source": [
    "from qiskit.tools.visualization import plot_histogram  # import necessary tools to visualize the results"
   ]
  },
  {
   "cell_type": "code",
   "execution_count": 17,
   "id": "cecf2fca-d29d-4be2-a1ae-71de1ff81666",
   "metadata": {},
   "outputs": [
    {
     "data": {
      "image/png": "[encoded data removed]",
      "text/plain": [
       "<Figure size 504x360 with 1 Axes>"
      ]
     },
     "execution_count": 17,
     "metadata": {},
     "output_type": "execute_result"
    }
   ],
   "source": [
    "plot_histogram(result.get_counts(circuit))"
   ]
  },
  {
   "cell_type": "code",
   "execution_count": 18,
   "id": "b61e132a-6429-43ae-b740-a424adc7bd6b",
   "metadata": {},
   "outputs": [
    {
     "data": {
      "text/plain": [
       "<AccountProvider for IBMQ(hub='ibm-q', group='open', project='main')>"
      ]
     },
     "execution_count": 18,
     "metadata": {},
     "output_type": "execute_result"
    }
   ],
   "source": [
    "# we don't get exact 0.5, 0.5 because of the limited no. of times that we are trying\n",
    "\n",
    "# now we will run our circuit on IBM's quantum  devices\n",
    "IBMQ.load_account()  # load your account"
   ]
  },
  {
   "cell_type": "code",
   "execution_count": 19,
   "id": "f18d7076-6cc8-492f-9d13-d21f27b71265",
   "metadata": {},
   "outputs": [],
   "source": [
    "provider = IBMQ.get_provider('ibm-q')\n",
    "qcomp = provider.get_backend('ibmq_lima')\n",
    "job = execute(circuit, backend=qcomp)"
   ]
  },
  {
   "cell_type": "code",
   "execution_count": 20,
   "id": "d3cbd195-729c-43b6-9659-63e640a9e7ef",
   "metadata": {},
   "outputs": [],
   "source": [
    "from qiskit.tools.monitor import job_monitor"
   ]
  },
  {
   "cell_type": "code",
   "execution_count": 21,
   "id": "26856c74-066f-4d19-8fe7-6198c2fe4bda",
   "metadata": {},
   "outputs": [
    {
     "name": "stdout",
     "output_type": "stream",
     "text": [
      "Job Status: job has successfully run\n"
     ]
    }
   ],
   "source": [
    "job_monitor(job)  # since the devices are open for public use, there's a queue"
   ]
  },
  {
   "cell_type": "code",
   "execution_count": 24,
   "id": "1d55b6d4-67e1-41b2-b6e7-af84fe3ab05e",
   "metadata": {},
   "outputs": [],
   "source": [
    "final_result = job.result()"
   ]
  },
  {
   "cell_type": "code",
   "execution_count": 25,
   "id": "db670c96-fb0e-4760-83e5-41cf3969fcf9",
   "metadata": {},
   "outputs": [
    {
     "data": {
      "image/png": "[encoded data removed]",
      "text/plain": [
       "<Figure size 504x360 with 1 Axes>"
      ]
     },
     "execution_count": 25,
     "metadata": {},
     "output_type": "execute_result"
    }
   ],
   "source": [
    "plot_histogram(final_result.get_counts(circuit))"
   ]
  },
  {
   "cell_type": "code",
   "execution_count": null,
   "id": "4adb66bd-6bde-4eba-b510-8f071207110c",
   "metadata": {},
   "outputs": [],
   "source": [
    "# we got some finite probability for 01 and 10 as well, this is due to noise"
   ]
  }
 ],
 "metadata": {
  "kernelspec": {
   "display_name": "Python 3 (ipykernel)",
   "language": "python",
   "name": "python3"
  },
  "language_info": {
   "codemirror_mode": {
    "name": "ipython",
    "version": 3
   },
   "file_extension": ".py",
   "mimetype": "text/x-python",
   "name": "python",
   "nbconvert_exporter": "python",
   "pygments_lexer": "ipython3",
   "version": "3.8.13"
  },
  "widgets": {
   "application/vnd.jupyter.widget-state+json": {
    "state": {},
    "version_major": 2,
    "version_minor": 0
   }
  }
 },
 "nbformat": 4,
 "nbformat_minor": 5
}
